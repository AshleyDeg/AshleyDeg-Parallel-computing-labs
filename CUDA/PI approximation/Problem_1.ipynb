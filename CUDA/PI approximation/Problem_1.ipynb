{
  "nbformat": 4,
  "nbformat_minor": 0,
  "metadata": {
    "colab": {
      "provenance": [],
      "gpuType": "T4"
    },
    "kernelspec": {
      "name": "python3",
      "display_name": "Python 3"
    },
    "language_info": {
      "name": "python"
    },
    "accelerator": "GPU"
  },
  "cells": [
    {
      "cell_type": "markdown",
      "source": [
        "# Problem 1 - Assignment 3 - GPUs\n",
        "Approximate π using the Bailey-Borwein-Plouffe formula. $$\\pi = \\sum_{k=0}^{\\infty} \\left[ \\frac{1}{16^k} \\left( \\frac{4}{8k+1} - \\frac{2}{8k+4} - \\frac{1}{8k+5} - \\frac{1}{8k+6} \\right) \\right]$$\n",
        "\n",
        "* Go to \"Runtime\" in the top menu.\n",
        "* Select \"Change runtime type\".*\n",
        "* Choose \"T4 GPU\" from the \"Hardware accelerator\" dropdown menu.\n",
        "* Click \"SAVE\"."
      ],
      "metadata": {
        "id": "Yqbn1JVh2d0S"
      }
    },
    {
      "cell_type": "code",
      "source": [
        "#  verify GPU availability and its specifications\n",
        "!nvidia-smi"
      ],
      "metadata": {
        "id": "Kwj7Ss_E2lPG",
        "colab": {
          "base_uri": "https://localhost:8080/"
        },
        "outputId": "f23ef5ae-2cf1-4f78-b276-cb5fe50ab020"
      },
      "execution_count": null,
      "outputs": [
        {
          "output_type": "stream",
          "name": "stdout",
          "text": [
            "Thu Mar 21 14:33:21 2024       \n",
            "+---------------------------------------------------------------------------------------+\n",
            "| NVIDIA-SMI 535.104.05             Driver Version: 535.104.05   CUDA Version: 12.2     |\n",
            "|-----------------------------------------+----------------------+----------------------+\n",
            "| GPU  Name                 Persistence-M | Bus-Id        Disp.A | Volatile Uncorr. ECC |\n",
            "| Fan  Temp   Perf          Pwr:Usage/Cap |         Memory-Usage | GPU-Util  Compute M. |\n",
            "|                                         |                      |               MIG M. |\n",
            "|=========================================+======================+======================|\n",
            "|   0  Tesla T4                       Off | 00000000:00:04.0 Off |                    0 |\n",
            "| N/A   47C    P8              10W /  70W |      0MiB / 15360MiB |      0%      Default |\n",
            "|                                         |                      |                  N/A |\n",
            "+-----------------------------------------+----------------------+----------------------+\n",
            "                                                                                         \n",
            "+---------------------------------------------------------------------------------------+\n",
            "| Processes:                                                                            |\n",
            "|  GPU   GI   CI        PID   Type   Process name                            GPU Memory |\n",
            "|        ID   ID                                                             Usage      |\n",
            "|=======================================================================================|\n",
            "|  No running processes found                                                           |\n",
            "+---------------------------------------------------------------------------------------+\n"
          ]
        }
      ]
    },
    {
      "cell_type": "code",
      "source": [
        "#IMPORTS\n",
        "import time\n",
        "import matplotlib.pyplot as plt\n",
        "import numpy as np"
      ],
      "metadata": {
        "id": "zZ2ohYmfaHro"
      },
      "execution_count": null,
      "outputs": []
    },
    {
      "cell_type": "markdown",
      "source": [
        "## Sequential"
      ],
      "metadata": {
        "id": "x7_xdGcJaKNF"
      }
    },
    {
      "cell_type": "code",
      "source": [
        "def approximate_pi(n):\n",
        "    pi = 0.0\n",
        "    for i in range(n):\n",
        "        pi += ((1/16) ** i) * (4 / (8 * i+ 1) - 2 / (8 * i + 4) - 1 / (8 * i + 5) - 1 / (8 * i + 6))\n",
        "    return pi\n",
        "\n",
        "n = 100000000\n",
        "\n",
        "start_time_cpu = time.time()\n",
        "pi_value = approximate_pi(n)\n",
        "end_time_cpu = time.time()\n",
        "elapsed_time_cpu = end_time_cpu - start_time_cpu\n",
        "\n",
        "print(\"Number of iterations: \", n)\n",
        "print(\"Approximation of π using BBP formula with CPU:\", pi_value)\n",
        "print(\"CPU Runtime:\", elapsed_time_cpu, \"s.\")"
      ],
      "metadata": {
        "id": "BfSARRlSXCfV",
        "colab": {
          "base_uri": "https://localhost:8080/"
        },
        "outputId": "18c5e22c-c51b-4de3-8545-6c450568c6a6"
      },
      "execution_count": null,
      "outputs": [
        {
          "output_type": "stream",
          "name": "stdout",
          "text": [
            "Number of iterations:  100000000\n",
            "Approximation of π using BBP formula with CPU: 3.141592653589793\n",
            "CPU Runtime: 69.4721291065216 s.\n"
          ]
        }
      ]
    },
    {
      "cell_type": "code",
      "source": [
        "def get_time_cpu(n):\n",
        "  start_time = time.time()\n",
        "  pi_value = approximate_pi(n)\n",
        "  end_time = time.time()\n",
        "  return end_time - start_time\n",
        "\n",
        "def avg_time_cpu(n_avg, n_range, outlier_cutoff=0.1):\n",
        "    all_time_results = []\n",
        "\n",
        "    # Collect all computation times\n",
        "    for n in n_range:\n",
        "        times_for_n = []\n",
        "        for i in range(n_avg):\n",
        "            times_for_n.append(get_time_cpu(n))\n",
        "        all_time_results.append(times_for_n)\n",
        "    # Compute the average\n",
        "    avg_times = [sum(times) / len(times) for times in all_time_results]\n",
        "\n",
        "    return avg_times\n",
        "\n",
        "show_graph = False\n",
        "n_avg = 10;\n",
        "n_range = np.arange(100, 100000, 1000)\n",
        "\n",
        "if (show_graph):\n",
        "  # Generate results for different n\n",
        "  pi_results_cpu = avg_time_cpu(n_avg, n_range)\n",
        "\n",
        "  # Plot the results\n",
        "  plt.figure(figsize=(5, 3))\n",
        "  plt.plot(n_range, pi_results_cpu, marker='.', linestyle='-')\n",
        "  plt.title(\"Approximation of π using BBP formula with CPU\")\n",
        "  plt.xlabel(\"Number of Terms (n)\")\n",
        "  plt.ylabel(\"Time\")\n",
        "  plt.grid(True)\n",
        "  plt.show()"
      ],
      "metadata": {
        "id": "vTgeDf47LeMg"
      },
      "execution_count": null,
      "outputs": []
    },
    {
      "cell_type": "markdown",
      "source": [
        "## Numpy"
      ],
      "metadata": {
        "id": "vaH3yLuXaO1D"
      }
    },
    {
      "cell_type": "code",
      "source": [
        "import numpy as np\n",
        "\n",
        "def approximate_pi_numpy(n):\n",
        "    i = np.arange(n)\n",
        "    return np.sum(((1/16) ** i) * (4 / (8 * i+ 1) - 2 / (8 * i + 4) - 1 / (8 * i + 5) - 1 / (8 * i + 6)))\n",
        "\n",
        "\n",
        "start_time_numpy = time.time()\n",
        "pi_value_numpy = approximate_pi_numpy(n)\n",
        "end_time_numpy = time.time()\n",
        "elapsed_time_numpy = end_time_numpy - start_time_numpy\n",
        "\n",
        "print(\"Number of iterations: \", n)\n",
        "print(\"Approximation of π using BBP formula with NumPy:\", pi_value_numpy)\n",
        "print(\"NumPy Runtime:\", elapsed_time_numpy, \"s.\")\n",
        "print(elapsed_time_cpu/elapsed_time_numpy, \"times quicker.\")"
      ],
      "metadata": {
        "id": "gqSdbne1ZC3K",
        "colab": {
          "base_uri": "https://localhost:8080/"
        },
        "outputId": "f2b5a99c-7dc4-4a1e-a7b1-0e7fd1876a49"
      },
      "execution_count": null,
      "outputs": [
        {
          "output_type": "stream",
          "name": "stdout",
          "text": [
            "Number of iterations:  100000000\n",
            "Approximation of π using BBP formula with NumPy: 3.141592653589793\n",
            "NumPy Runtime: 5.770061492919922 s.\n",
            "12.040102032147573 times quicker.\n"
          ]
        }
      ]
    },
    {
      "cell_type": "code",
      "source": [
        "def get_time_numpy(n):\n",
        "  start_time = time.time()\n",
        "  pi_value = approximate_pi_numpy(n)\n",
        "  end_time = time.time()\n",
        "  return end_time - start_time\n",
        "\n",
        "def avg_time_numpy(n_avg, n_range):\n",
        "    total_time_results = [0] * len(n_range)\n",
        "    for j, n in enumerate(n_range):\n",
        "      #print(n)\n",
        "      for i in range(n_avg):\n",
        "          #print(i, n)\n",
        "          total_time_results[j] += get_time_numpy(n)\n",
        "    return [time / n_avg for time in total_time_results]\n",
        "\n",
        "from tqdm import tqdm\n",
        "import time\n",
        "\n",
        "def avg_time_numpy_progress(n_avg, n_range):\n",
        "    total_time_results = [0] * len(n_range)\n",
        "    for j, n in enumerate(n_range):\n",
        "        progress_bar = tqdm(range(n_avg), desc=f'n = {n}', position=0, leave=True)\n",
        "        for _ in progress_bar:\n",
        "            total_time_results[j] += get_time_numpy(n)\n",
        "            progress_bar.update(1)\n",
        "            time.sleep(0.1)  # Add a small delay for visualization purposes (optional)\n",
        "        progress_bar.close()\n",
        "    return [time / n_avg for time in total_time_results]\n",
        "\n",
        "\n",
        "if (show_graph):\n",
        "  # Generate results for different n\n",
        "  n_avg = 20;\n",
        "  n_range = np.arange(1000, 10000, 1000)\n",
        "\n",
        "  pi_results_numpy = avg_time_numpy_progress(n_avg, n_range)\n",
        "\n",
        "  # Plot the results\n",
        "  plt.figure(figsize=(5, 3))\n",
        "  plt.plot(n_range, pi_results_numpy, marker='.', linestyle='-')\n",
        "  plt.title(\"Approximation of π using BBP formula with numpy\")\n",
        "  plt.xlabel(\"Number of Terms (n)\")\n",
        "  plt.ylabel(\"Time\")\n",
        "  plt.grid(True)\n",
        "  plt.show()"
      ],
      "metadata": {
        "id": "Vt6tOqO2Lo2w"
      },
      "execution_count": null,
      "outputs": []
    },
    {
      "cell_type": "markdown",
      "source": [
        "## CUPY"
      ],
      "metadata": {
        "id": "Sh11L5KpfJv_"
      }
    },
    {
      "cell_type": "code",
      "source": [
        "import cupy as cp\n",
        "\n",
        "def approximate_pi_cupy(n):\n",
        "    i = cp.arange(n)\n",
        "    return cp.sum(((1/16) ** i) * (4 / (8 * i+ 1) - 2 / (8 * i + 4) - 1 / (8 * i + 5) - 1 / (8 * i + 6)))\n",
        "\n",
        "\n",
        "start_time_cupy = time.time()\n",
        "pi_value_cupy = approximate_pi_cupy(n)\n",
        "end_time_cupy = time.time()\n",
        "elapsed_time_cupy = end_time_cupy - start_time_cupy\n",
        "\n",
        "print(\"Number of iterations: \", n)\n",
        "print(\"Approximation of π using BBP formula with CuPy:\", pi_value_cupy)\n",
        "print(\"CuPy Runtime:\", elapsed_time_cupy, \"s.\")\n",
        "print(elapsed_time_numpy/elapsed_time_cupy, \"times quicker than numpy.\")"
      ],
      "metadata": {
        "id": "RPslTDl1fLEW",
        "colab": {
          "base_uri": "https://localhost:8080/"
        },
        "outputId": "e00c38ef-7a71-403b-94da-7aa20fcdd34c"
      },
      "execution_count": null,
      "outputs": [
        {
          "output_type": "stream",
          "name": "stdout",
          "text": [
            "Number of iterations:  100000000\n",
            "Approximation of π using BBP formula with CuPy: 3.1415926535897936\n",
            "CuPy Runtime: 0.004259586334228516 s.\n",
            "1354.6060673905743 times quicker than numpy.\n"
          ]
        }
      ]
    },
    {
      "cell_type": "markdown",
      "source": [
        "## Graph"
      ],
      "metadata": {
        "id": "pflns3s5g4E1"
      }
    },
    {
      "cell_type": "code",
      "source": [
        "def get_time_cupy(n):\n",
        "  start_time = time.time()\n",
        "  pi_value = approximate_pi_cupy(n)\n",
        "  end_time = time.time()\n",
        "  return end_time - start_time\n",
        "\n",
        "def avg_time_cupy(n_avg, n_range):\n",
        "    total_time_results = [0] * len(n_range)\n",
        "    for j, n in enumerate(n_range):\n",
        "      for i in range(n_avg):\n",
        "          #print(i, n)\n",
        "          total_time_results[j] += get_time_cupy(n)\n",
        "    return [time / n_avg for time in total_time_results]\n",
        "\n",
        "def avg_time_cupy_progress(n_avg, n_range):\n",
        "    total_time_results = [0] * len(n_range)\n",
        "    for j, n in enumerate(n_range):\n",
        "        progress_bar = tqdm(range(n_avg), desc=f'n = {n}', position=0, leave=True)\n",
        "        for _ in progress_bar:\n",
        "            total_time_results[j] += get_time_cupy(n)\n",
        "            progress_bar.update(1)\n",
        "            time.sleep(0.1)  # Add a small delay for visualization purposes (optional)\n",
        "        progress_bar.close()\n",
        "    return [time / n_avg for time in total_time_results]"
      ],
      "metadata": {
        "id": "UImCch5EOrBn"
      },
      "execution_count": null,
      "outputs": []
    },
    {
      "cell_type": "code",
      "source": [
        "# Generate results for different n\n",
        "n_avg = 10;\n",
        "n_range = np.arange(10000, 100000000, 10000000)\n",
        "\n",
        "if (show_graph):\n",
        "  pi_results_numpy = avg_time_numpy_progress(n_avg, n_range)\n",
        "  pi_results_cupy = avg_time_cupy_progress(n_avg, n_range)\n",
        "\n",
        "  # Plot the results\n",
        "  plt.figure(figsize=(5, 3))\n",
        "  plt.plot(n_range, pi_results_numpy, marker='.', linestyle='-', label = 'numpy')\n",
        "  plt.plot(n_range, pi_results_cupy, marker='.', linestyle='-', label = 'cupy')\n",
        "  plt.title(\"Approximation of π using BBP formula with numpy and cupy\")\n",
        "  plt.xlabel(\"Number of Terms (n)\")\n",
        "  plt.ylabel(\"Time\")\n",
        "  plt.grid(True)\n",
        "  plt.legend()\n",
        "  plt.show()"
      ],
      "metadata": {
        "id": "gXAgsE1Sg6Za"
      },
      "execution_count": null,
      "outputs": []
    },
    {
      "cell_type": "markdown",
      "source": [
        "##JIT (nopython)"
      ],
      "metadata": {
        "id": "Zz8syzxnbd0l"
      }
    },
    {
      "cell_type": "code",
      "source": [
        "from numba import jit\n",
        "\n",
        "@jit(nopython=True)\n",
        "def j_approximate_pi(n):\n",
        "    pi = 0.0\n",
        "    for i in range(n):\n",
        "        pi += ((1/16) ** i) * (4 / (8 * i+ 1) - 2 / (8 * i + 4) - 1 / (8 * i + 5) - 1 / (8 * i + 6))\n",
        "    return pi\n",
        "\n",
        "\n",
        "start_time_j = time.time()\n",
        "pi_value_j = j_approximate_pi(n)\n",
        "end_time_j = time.time()\n",
        "elapsed_time_j = end_time_j - start_time_j\n",
        "\n",
        "print(\"Number of iterations: \", n)\n",
        "print(\"Approximation of π using BBP formula with JIT:\", pi_value_j)\n",
        "print(\"JIT Runtime:\", elapsed_time_j, \"s.\")"
      ],
      "metadata": {
        "id": "F-E6Dwt_birk",
        "colab": {
          "base_uri": "https://localhost:8080/"
        },
        "outputId": "fc9bf565-0666-4895-b13f-25492f79891d"
      },
      "execution_count": null,
      "outputs": [
        {
          "output_type": "stream",
          "name": "stdout",
          "text": [
            "Number of iterations:  100000000\n",
            "Approximation of π using BBP formula with JIT: 3.141592653589793\n",
            "JIT Runtime: 1.675957441329956 s.\n"
          ]
        }
      ]
    },
    {
      "cell_type": "markdown",
      "source": [
        "## JIT (nopython + parallel)"
      ],
      "metadata": {
        "id": "jvmXq1anc_DD"
      }
    },
    {
      "cell_type": "code",
      "source": [
        "from numba import prange\n",
        "\n",
        "@jit(nopython=True, parallel=True)\n",
        "def jp_approximate_pi(n):\n",
        "    pi = 0.0\n",
        "    for i in prange(n):\n",
        "        pi += ((1/16) ** i) * (4 / (8 * i+ 1) - 2 / (8 * i + 4) - 1 / (8 * i + 5) - 1 / (8 * i + 6))\n",
        "    return pi\n",
        "\n",
        "\n",
        "start_time_jp = time.time()\n",
        "pi_value_jp = jp_approximate_pi(n)\n",
        "end_time_jp = time.time()\n",
        "elapsed_time_jp = end_time_jp - start_time_jp\n",
        "\n",
        "print(\"Number of iterations: \", n)\n",
        "print(\"Approximation of π using BBP formula with JIT + parallel:\", pi_value_jp)\n",
        "print(\"JIT + parallel Runtime:\", elapsed_time_jp, \"s.\")"
      ],
      "metadata": {
        "id": "TzN3aMYMcP80",
        "colab": {
          "base_uri": "https://localhost:8080/"
        },
        "outputId": "4d80a52c-8bba-4b96-ee3f-058775842086"
      },
      "execution_count": null,
      "outputs": [
        {
          "output_type": "stream",
          "name": "stdout",
          "text": [
            "Number of iterations:  100000000\n",
            "Approximation of π using BBP formula with JIT + parallel: 3.141592653589793\n",
            "JIT + parallel Runtime: 1.636348009109497 s.\n"
          ]
        }
      ]
    },
    {
      "cell_type": "markdown",
      "source": [
        "# TimeIt"
      ],
      "metadata": {
        "id": "fFujS4NXW_XJ"
      }
    },
    {
      "cell_type": "code",
      "source": [
        "n_range = [100000, 1000000, 10000000, 100000000]\n",
        "for n in n_range:\n",
        "  print(\"\\n \\033[1mNumber of iterations: \\033[0m\", n)\n",
        "  print(\"\\nSequential version:\")\n",
        "  %timeit approximate_pi(n)\n",
        "\n",
        "  print(\"\\nNumpy version:\")\n",
        "  %timeit approximate_pi_numpy(n)\n",
        "\n",
        "  print(\"\\nCupy version:\")\n",
        "  %timeit approximate_pi_cupy(n)\n",
        "\n",
        "  print(\"\\nno-python = true\")\n",
        "  %timeit j_approximate_pi(n)\n",
        "\n",
        "  print(\"\\nno-python = true, parallel = true\")\n",
        "  %timeit jp_approximate_pi(n)"
      ],
      "metadata": {
        "colab": {
          "base_uri": "https://localhost:8080/"
        },
        "id": "pbRWZoFzXCYv",
        "outputId": "2dc6786b-94d5-426f-d8e8-751939cf6359"
      },
      "execution_count": null,
      "outputs": [
        {
          "output_type": "stream",
          "name": "stdout",
          "text": [
            "\n",
            " \u001b[1mNumber of iterations: \u001b[0m 100000\n",
            "\n",
            "Sequential version:\n",
            "56.7 ms ± 649 µs per loop (mean ± std. dev. of 7 runs, 10 loops each)\n",
            "\n",
            "Numpy version:\n",
            "3.77 ms ± 76.5 µs per loop (mean ± std. dev. of 7 runs, 100 loops each)\n",
            "\n",
            "Cupy version:\n",
            "567 µs ± 105 µs per loop (mean ± std. dev. of 7 runs, 1000 loops each)\n",
            "\n",
            "no-python = true\n",
            "8.65 ms ± 130 µs per loop (mean ± std. dev. of 7 runs, 100 loops each)\n",
            "\n",
            "no-python = true, parallel = true\n",
            "8.25 ms ± 1.46 ms per loop (mean ± std. dev. of 7 runs, 100 loops each)\n",
            "\n",
            " \u001b[1mNumber of iterations: \u001b[0m 1000000\n",
            "\n",
            "Sequential version:\n",
            "566 ms ± 6.6 ms per loop (mean ± std. dev. of 7 runs, 1 loop each)\n",
            "\n",
            "Numpy version:\n",
            "61.8 ms ± 13.3 ms per loop (mean ± std. dev. of 7 runs, 10 loops each)\n",
            "\n",
            "Cupy version:\n",
            "2.31 ms ± 64.7 µs per loop (mean ± std. dev. of 7 runs, 100 loops each)\n",
            "\n",
            "no-python = true\n",
            "16.2 ms ± 2.79 ms per loop (mean ± std. dev. of 7 runs, 100 loops each)\n",
            "\n",
            "no-python = true, parallel = true\n",
            "15.3 ms ± 3.22 ms per loop (mean ± std. dev. of 7 runs, 100 loops each)\n",
            "\n",
            " \u001b[1mNumber of iterations: \u001b[0m 10000000\n",
            "\n",
            "Sequential version:\n",
            "6.31 s ± 572 ms per loop (mean ± std. dev. of 7 runs, 1 loop each)\n",
            "\n",
            "Numpy version:\n",
            "575 ms ± 8.86 ms per loop (mean ± std. dev. of 7 runs, 1 loop each)\n",
            "\n",
            "Cupy version:\n",
            "22.8 ms ± 63.9 µs per loop (mean ± std. dev. of 7 runs, 100 loops each)\n",
            "\n",
            "no-python = true\n",
            "78.1 ms ± 1.2 ms per loop (mean ± std. dev. of 7 runs, 10 loops each)\n",
            "\n",
            "no-python = true, parallel = true\n",
            "101 ms ± 22.2 ms per loop (mean ± std. dev. of 7 runs, 10 loops each)\n",
            "\n",
            " \u001b[1mNumber of iterations: \u001b[0m 100000000\n",
            "\n",
            "Sequential version:\n",
            "1min 3s ± 1.07 s per loop (mean ± std. dev. of 7 runs, 1 loop each)\n",
            "\n",
            "Numpy version:\n",
            "6.31 s ± 549 ms per loop (mean ± std. dev. of 7 runs, 1 loop each)\n",
            "\n",
            "Cupy version:\n",
            "225 ms ± 1.04 ms per loop (mean ± std. dev. of 7 runs, 100 loops each)\n",
            "\n",
            "no-python = true\n",
            "900 ms ± 248 ms per loop (mean ± std. dev. of 7 runs, 1 loop each)\n",
            "\n",
            "no-python = true, parallel = true\n",
            "828 ms ± 3.9 ms per loop (mean ± std. dev. of 7 runs, 1 loop each)\n"
          ]
        }
      ]
    }
  ]
}